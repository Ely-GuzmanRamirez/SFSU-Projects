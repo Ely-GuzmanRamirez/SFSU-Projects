{
 "cells": [
  {
   "cell_type": "code",
   "execution_count": null,
   "id": "0efdc7f2-29a1-4e4a-b6b0-4f9da34ec41c",
   "metadata": {},
   "outputs": [
    {
     "name": "stdin",
     "output_type": "stream",
     "text": [
      "Welcome player! This is the guessing game. Enter 'player' for player to guess or 'computer' for the computer to guess:  computer\n"
     ]
    },
    {
     "name": "stdout",
     "output_type": "stream",
     "text": [
      "Excellent! The person guessing will be the computer.\n",
      "Think of a whole number between 1-1000 and write it down somewhere safe where I can't see.\n",
      "If you don't stay within those parameters I won't be able to guess your number :(\n"
     ]
    },
    {
     "name": "stdin",
     "output_type": "stream",
     "text": [
      "Is your number even? (y/n):  n\n",
      "Is the sum of the digits of your number even? (y/n):  y\n",
      "Is your number greater than or equal to 500? (y/n):  n\n",
      "Is your number greater than or equal to 255? (y/n):  n\n",
      "Is your number greater than or equal to 132? (y/n):  y\n",
      "Is your number greater than or equal to 197? (y/n):  y\n",
      "Is your number greater than or equal to 232? (y/n):  n\n"
     ]
    },
    {
     "name": "stdout",
     "output_type": "stream",
     "text": [
      "DEBUG: Current number range: [211, 213, 215, 217, 219, 231]\n"
     ]
    },
    {
     "name": "stdin",
     "output_type": "stream",
     "text": [
      "Is your number divisible by 3? (y/n):  n\n"
     ]
    },
    {
     "name": "stdout",
     "output_type": "stream",
     "text": [
      "DEBUG: Current number range: [211, 215, 217]\n"
     ]
    },
    {
     "name": "stdin",
     "output_type": "stream",
     "text": [
      "Is your number greater than or equal to 214? (y/n):  y\n"
     ]
    },
    {
     "name": "stdout",
     "output_type": "stream",
     "text": [
      "DEBUG: Current number range: [215, 217]\n"
     ]
    },
    {
     "name": "stdin",
     "output_type": "stream",
     "text": [
      "Is your number divisible by 5? (y/n):  n\n"
     ]
    },
    {
     "name": "stdout",
     "output_type": "stream",
     "text": [
      "DEBUG: Current number range: [217]\n",
      "Okay I've got this! Your number has to be 217.\n"
     ]
    },
    {
     "name": "stdin",
     "output_type": "stream",
     "text": [
      "Would you like to play again? (y/n):  y\n",
      "Welcome player! This is the guessing game. Enter 'player' for player to guess or 'computer' for the computer to guess:  computer\n"
     ]
    },
    {
     "name": "stdout",
     "output_type": "stream",
     "text": [
      "Excellent! The person guessing will be the computer.\n",
      "Think of a whole number between 1-1000 and write it down somewhere safe where I can't see.\n",
      "If you don't stay within those parameters I won't be able to guess your number :(\n"
     ]
    },
    {
     "name": "stdin",
     "output_type": "stream",
     "text": [
      "Is your number even? (y/n):  n\n",
      "Is the sum of the digits of your number even? (y/n):  y\n",
      "Is your number greater than or equal to 500? (y/n):  n\n",
      "Is your number greater than or equal to 255? (y/n):  n\n",
      "Is your number greater than or equal to 132? (y/n):  y\n",
      "Is your number greater than or equal to 197? (y/n):  y\n",
      "Is your number greater than or equal to 232? (y/n):  n\n"
     ]
    },
    {
     "name": "stdout",
     "output_type": "stream",
     "text": [
      "DEBUG: Current number range: [211, 213, 215, 217, 219, 231]\n"
     ]
    },
    {
     "name": "stdin",
     "output_type": "stream",
     "text": [
      "Is your number divisible by 3? (y/n):  n\n"
     ]
    },
    {
     "name": "stdout",
     "output_type": "stream",
     "text": [
      "DEBUG: Current number range: [211, 215, 217]\n"
     ]
    },
    {
     "name": "stdin",
     "output_type": "stream",
     "text": [
      "Is your number greater than or equal to 214? (y/n):  y\n"
     ]
    },
    {
     "name": "stdout",
     "output_type": "stream",
     "text": [
      "DEBUG: Current number range: [215, 217]\n"
     ]
    },
    {
     "name": "stdin",
     "output_type": "stream",
     "text": [
      "Is your number divisible by 5? (y/n):  u\n",
      "Invalid input, please enter yes or no:  y\n"
     ]
    },
    {
     "name": "stdout",
     "output_type": "stream",
     "text": [
      "DEBUG: Current number range: [215]\n",
      "Okay I've got this! Your number has to be 215.\n"
     ]
    },
    {
     "name": "stdin",
     "output_type": "stream",
     "text": [
      "Would you like to play again? (y/n):  y\n",
      "Welcome player! This is the guessing game. Enter 'player' for player to guess or 'computer' for the computer to guess:  computer\n"
     ]
    },
    {
     "name": "stdout",
     "output_type": "stream",
     "text": [
      "Excellent! The person guessing will be the computer.\n",
      "Think of a whole number between 1-1000 and write it down somewhere safe where I can't see.\n",
      "If you don't stay within those parameters I won't be able to guess your number :(\n"
     ]
    },
    {
     "name": "stdin",
     "output_type": "stream",
     "text": [
      "Is your number even? (y/n):  n\n",
      "Is the sum of the digits of your number even? (y/n):  y\n",
      "Is your number greater than or equal to 500? (y/n):  n\n",
      "Is your number greater than or equal to 255? (y/n):  n\n",
      "Is your number greater than or equal to 132? (y/n):  y\n",
      "Is your number greater than or equal to 197? (y/n):  y\n",
      "Is your number greater than or equal to 232? (y/n):  n\n"
     ]
    },
    {
     "name": "stdout",
     "output_type": "stream",
     "text": [
      "DEBUG: Current number range: [211, 213, 215, 217, 219, 231]\n"
     ]
    },
    {
     "name": "stdin",
     "output_type": "stream",
     "text": [
      "Is your number divisible by 3? (y/n):  y\n"
     ]
    },
    {
     "name": "stdout",
     "output_type": "stream",
     "text": [
      "DEBUG: Current number range: [213, 219, 231]\n"
     ]
    },
    {
     "name": "stdin",
     "output_type": "stream",
     "text": [
      "Is your number greater than or equal to 222? (y/n):  y\n"
     ]
    },
    {
     "name": "stdout",
     "output_type": "stream",
     "text": [
      "DEBUG: Current number range: [231]\n",
      "Okay I've got this! Your number has to be 231.\n"
     ]
    },
    {
     "name": "stdin",
     "output_type": "stream",
     "text": [
      "Would you like to play again? (y/n):  y\n",
      "Welcome player! This is the guessing game. Enter 'player' for player to guess or 'computer' for the computer to guess:  computer \n",
      "Invalid choice. Please enter 'player' or 'computer':  computer\n"
     ]
    },
    {
     "name": "stdout",
     "output_type": "stream",
     "text": [
      "Excellent! The person guessing will be the computer.\n",
      "Think of a whole number between 1-1000 and write it down somewhere safe where I can't see.\n",
      "If you don't stay within those parameters I won't be able to guess your number :(\n"
     ]
    },
    {
     "name": "stdin",
     "output_type": "stream",
     "text": [
      "Is your number even? (y/n):  y\n",
      "Is your number greater than or equal to 501? (y/n):  n\n",
      "Is your number greater than or equal to 251? (y/n):  y\n",
      "Is your number greater than or equal to 376? (y/n):  y\n",
      "Is your number greater than or equal to 438? (y/n):  y\n",
      "Is your number greater than or equal to 469? (y/n):  n\n",
      "Are all the digits of your number unique? (y/n):  n\n"
     ]
    },
    {
     "name": "stdout",
     "output_type": "stream",
     "text": [
      "DEBUG: Current number range: [440, 442, 444, 446, 448, 454, 464, 466]\n"
     ]
    },
    {
     "name": "stdin",
     "output_type": "stream",
     "text": [
      "Is your number greater than or equal to 453? (y/n):  n\n"
     ]
    },
    {
     "name": "stdout",
     "output_type": "stream",
     "text": [
      "DEBUG: Current number range: [440, 442, 444, 446, 448]\n"
     ]
    },
    {
     "name": "stdin",
     "output_type": "stream",
     "text": [
      "Is your number greater than or equal to 444? (y/n):  y\n"
     ]
    },
    {
     "name": "stdout",
     "output_type": "stream",
     "text": [
      "DEBUG: Current number range: [444, 446, 448]\n"
     ]
    },
    {
     "name": "stdin",
     "output_type": "stream",
     "text": [
      "Is your number greater than or equal to 446? (y/n):  n\n"
     ]
    },
    {
     "name": "stdout",
     "output_type": "stream",
     "text": [
      "DEBUG: Current number range: [444]\n",
      "Okay I've got this! Your number has to be 444.\n"
     ]
    }
   ],
   "source": [
    "# -*- coding: utf-8 -*-\n",
    "\"\"\"\n",
    "This code integrates the \"player guessing the computer's number\" logic into the \n",
    "previous code structure that had both a \"computer_guess\" and a \"player_guess\" mode.\n",
    "The computer guessing functionality remains unchanged.\n",
    "\n",
    "Fixes made:\n",
    "- We no longer rely on matching lambda function bytecode to identify prompts. \n",
    "  Instead, we store questions and prompts in a fixed order and find the chosen \n",
    "  question by function identity.\n",
    "\"\"\"\n",
    "\n",
    "import sys\n",
    "import random\n",
    "import sympy\n",
    "import inflect\n",
    "\n",
    "def restart_game():\n",
    "    restart = check_for_yes_or_no(\"Would you like to play again? (y/n): \")\n",
    "    if restart:\n",
    "        main()\n",
    "    else:\n",
    "        print(\"Thanks for playing!\")\n",
    "\n",
    "def check_for_yes_or_no(question):\n",
    "    answer = input(question)\n",
    "    while True:\n",
    "        if answer.lower() in ['y', 'yes']:\n",
    "            return True\n",
    "        elif answer.lower() in ['n', 'no']:\n",
    "            return False\n",
    "        else:\n",
    "            answer = input(\"Invalid input, please enter yes or no: \")\n",
    "\n",
    "def check_h_l(question):\n",
    "    answer = input(question)\n",
    "    while True:\n",
    "        if answer.lower() in ['l', 'lower']:\n",
    "            return \"lower\"\n",
    "        elif answer.lower() in ['h', 'higher']:\n",
    "            return \"higher\"\n",
    "        else:\n",
    "            answer = input(\"Invalid input, please enter higher or lower: \")\n",
    "\n",
    "def check_for_guess(number_range):\n",
    "    if len(number_range) == 1:\n",
    "        print(f\"Okay I've got this! Your number has to be {number_range[0]}.\")\n",
    "        return True\n",
    "    return False\n",
    "\n",
    "def is_sum_of_digits_even(num):\n",
    "    total = sum(int(d) for d in str(num))\n",
    "    return (total % 2 == 0)\n",
    "\n",
    "def is_all_digits_unique(num):\n",
    "    digits = str(num)\n",
    "    unique_digits = set(digits)\n",
    "    return len(unique_digits) == len(digits)\n",
    "\n",
    "def is_even(num):\n",
    "    return (num % 2 == 0)\n",
    "\n",
    "def is_divisible_by_3(num):\n",
    "    return (num % 3 == 0)\n",
    "\n",
    "def is_divisible_by_5(num):\n",
    "    return (num % 5 == 0)\n",
    "\n",
    "def is_multiple_of_10(num):\n",
    "    return (num % 10 == 0)\n",
    "\n",
    "def is_greater_or_equal_midpoint(num, number_range):\n",
    "    midpoint = (number_range[0] + number_range[-1]) // 2\n",
    "    return (num >= midpoint)\n",
    "\n",
    "def optimal_binary_question(number_range, question_list):\n",
    "    \"\"\"\n",
    "    Identify the best binary question to ask from the provided question_list.\n",
    "    question_list is a list of tuples: (function, prompt)\n",
    "    Each function is a lambda that returns True/False.\n",
    "    \"\"\"\n",
    "    best_question = None\n",
    "    best_split = float('inf')  # Start with a large number\n",
    "\n",
    "    for question_func, _ in question_list:\n",
    "        yes_subset = [num for num in number_range if question_func(num)]\n",
    "        no_subset = [num for num in number_range if not question_func(num)]\n",
    "\n",
    "        largest_subset = max(len(yes_subset), len(no_subset))\n",
    "        total = len(number_range)\n",
    "        size_yes = len(yes_subset)\n",
    "        size_no = len(no_subset)\n",
    "        expected_size = (size_yes / total) * size_yes + (size_no / total) * size_no\n",
    "\n",
    "        if largest_subset < best_split or (largest_subset == best_split and expected_size < best_split):\n",
    "            best_split = largest_subset\n",
    "            best_question = question_func\n",
    "\n",
    "    return best_question\n",
    "\n",
    "def computer_guess():\n",
    "    print(\"Think of a whole number between 1-1000 and write it down somewhere safe where I can't see.\")\n",
    "    print(\"If you don't stay within those parameters I won't be able to guess your number :(\")\n",
    "\n",
    "    number_range = list(range(1, 1001))\n",
    "\n",
    "    # We store the questions and prompts in a list of tuples\n",
    "    # The prompt for the midpoint question will be dynamically adjusted.\n",
    "    # Note: We do not rely on comparing code objects. We return the chosen function and \n",
    "    # then find it in this list by identity.\n",
    "    question_list = [\n",
    "        (lambda num: (sum(int(d) for d in str(num)) % 2 == 0), \"Is the sum of the digits of your number even? (y/n): \"),\n",
    "        (lambda num: (len(set(str(num))) == len(str(num))),    \"Are all the digits of your number unique? (y/n): \"),\n",
    "        (lambda num: num % 2 == 0,                             \"Is your number even? (y/n): \"),\n",
    "        (lambda num: num % 3 == 0,                             \"Is your number divisible by 3? (y/n): \"),\n",
    "        (lambda num: num % 5 == 0,                             \"Is your number divisible by 5? (y/n): \"),\n",
    "        (lambda num: num % 10 == 0,                            \"Is your number a multiple of 10? (y/n): \"),\n",
    "        (lambda num: num >= (number_range[0] + number_range[-1]) // 2, \"Is your number greater than or equal to the midpoint? (y/n): \")\n",
    "    ]\n",
    "\n",
    "    while len(number_range) > 1:\n",
    "        question = optimal_binary_question(number_range, question_list)\n",
    "\n",
    "        # Find the corresponding prompt\n",
    "        for q_func, prompt in question_list:\n",
    "            if q_func is question:\n",
    "                # If it's the midpoint question, dynamically insert the midpoint value\n",
    "                if \"midpoint\" in prompt:\n",
    "                    midpoint = (number_range[0] + number_range[-1]) // 2\n",
    "                    prompt = f\"Is your number greater than or equal to {midpoint}? (y/n): \"\n",
    "                response = check_for_yes_or_no(prompt)\n",
    "                break\n",
    "        else:\n",
    "            raise ValueError(\"Selected question does not match any known prompt.\")\n",
    "\n",
    "        # Filter based on the response\n",
    "        number_range = [num for num in number_range if question(num) == response]\n",
    "\n",
    "        # Debug range if small\n",
    "        if len(number_range) <= 10:\n",
    "            print(f\"DEBUG: Current number range: {number_range}\")\n",
    "\n",
    "        if check_for_guess(number_range):\n",
    "            return\n",
    "\n",
    "    # Final guess\n",
    "    if len(number_range) == 1:\n",
    "        print(f\"Your number is {number_range[0]}!\")\n",
    "    else:\n",
    "        print(\"I couldn't guess your number with the given questions.\")\n",
    "\n",
    "def player_guess():\n",
    "    points = 100\n",
    "    x = random.randint(1, 1001)\n",
    "\n",
    "    c_1 = 0\n",
    "    c_2 = 0\n",
    "    c_3 = 0\n",
    "    c_4 = 0\n",
    "    c_5 = 0\n",
    "    c_6 = 0\n",
    "    c_7 = 0\n",
    "    c_8 = 0\n",
    "    c_9 = 0\n",
    "    c_10 = 0\n",
    "\n",
    "    def guess():\n",
    "        nonlocal points\n",
    "        a_1 = input(\"Do you have a guess?:\")\n",
    "        if a_1.lower() in ['yes', 'y', 'yeah', 'yep']:\n",
    "            g_1 = input(\"What is your guess?:\")\n",
    "            if g_1 == str(x):\n",
    "                print(\"Correct! The number is\", x)\n",
    "                print(\"You won with\", points, \"points remaining!\")\n",
    "                return True\n",
    "            else:\n",
    "                print(\"Sorry, that's incorrect\")\n",
    "                return False\n",
    "        elif a_1.lower() in ['no', 'n', 'nah', 'nope']:\n",
    "            print(\"Then let us proceed\")\n",
    "            return False\n",
    "        else:\n",
    "            # If the user directly enters a guess or something else\n",
    "            if a_1 == str(x):\n",
    "                print(\"Correct! The number is:\", x)\n",
    "                print(\"You won with\", points, \"points remaining!\")\n",
    "                return True\n",
    "            else:\n",
    "                print(\"Sorry, either your guess was wrong or I did not understand your input.\")\n",
    "                return False\n",
    "\n",
    "    def first_letter_of_number(number):\n",
    "        i = inflect.engine()\n",
    "        word = i.number_to_words(number)\n",
    "        print(\"The first letter is\", word[0])\n",
    "\n",
    "    def parity(val):\n",
    "        p = val % 2\n",
    "        if p == 0:\n",
    "            print('The number is even')\n",
    "        else:\n",
    "            print(\"The number is odd\")\n",
    "\n",
    "    def digits(val):\n",
    "        print(\"There are\", len(str(val)), \"digits in the number\")\n",
    "\n",
    "    def sum_of_last_2(val):\n",
    "        s_val = str(val)\n",
    "        if len(s_val) == 1:\n",
    "            s = int(s_val)\n",
    "        else:\n",
    "            last_two = s_val[-2:]\n",
    "            s = sum(int(d) for d in last_two)\n",
    "        print(\"The sum of the final two digits in the number is\", s)\n",
    "\n",
    "    def first_parity(val):\n",
    "        f = int(str(val)[0]) % 2\n",
    "        if f == 0:\n",
    "            print('The first digit of the number is even')\n",
    "        else:\n",
    "            print('The first digit of the number is odd')\n",
    "\n",
    "    def product_two(val):\n",
    "        s_val = str(val)\n",
    "        if len(s_val) == 1:\n",
    "            p = int(s_val)\n",
    "        else:\n",
    "            d = int(s_val[-2])\n",
    "            g = int(s_val[-1])\n",
    "            p = d * g\n",
    "        print(\"The product of the final two digits in the number is\", p)\n",
    "\n",
    "    def half_check(val):\n",
    "        if val >= 500:\n",
    "            print(\"The number is greater or equal to 500\")\n",
    "        else:\n",
    "            print(\"The number is less than 500\")\n",
    "\n",
    "    def higher_lower(val):\n",
    "        e = input(\"What number would you like to check? You only get one, so choose wisely!:\")\n",
    "        try:\n",
    "            e = int(e)\n",
    "            if val < e:\n",
    "                print(\"The number is less than\", e)\n",
    "            elif val > e:\n",
    "                print(\"The number is greater than\", e)\n",
    "            else:\n",
    "                print(\"The number is equal to\", e)\n",
    "        except ValueError:\n",
    "            print(\"Invalid input. Please enter a numeric value next time.\")\n",
    "\n",
    "    def prime_check(val):\n",
    "        if sympy.isprime(val):\n",
    "            print(\"The number is prime\")\n",
    "        else:\n",
    "            print(\"The number is not prime\")\n",
    "\n",
    "    def last_digit(val):\n",
    "        v = str(val)[-1]\n",
    "        print(\"The last digit of the number is\", v)\n",
    "\n",
    "    def point_check(val):\n",
    "        nonlocal points\n",
    "        if points <= 0:\n",
    "            y = input(\"You ran out of points! Would you like to make a final guess?:\")\n",
    "            if y.lower() in ['yes', 'y']:\n",
    "                final_guess = input(\"What is your final guess?:\")\n",
    "                if final_guess == str(val):\n",
    "                    print(\"Correct! The answer was\", val)\n",
    "                else:\n",
    "                    print(\"Sorry, that's not correct... The number was\", val, \"better luck next time!\")\n",
    "            else:\n",
    "                print(\"Better luck next time! The number was\", val)\n",
    "            return True\n",
    "        return False\n",
    "\n",
    "    def pointy():\n",
    "        print(\"Points remaining =\", points)\n",
    "\n",
    "    def f(q):\n",
    "        def ask_again():\n",
    "            nonlocal c_1, c_2, c_3, c_4, c_5, c_6, c_7, c_8, c_9, c_10, points\n",
    "            q_new = input(\"Could you please try again with a new number (1-10)?:\")\n",
    "            handle_question_choice(q_new)\n",
    "\n",
    "        def handle_question_choice(question):\n",
    "            nonlocal c_1, c_2, c_3, c_4, c_5, c_6, c_7, c_8, c_9, c_10, points\n",
    "            if question == '1':\n",
    "                if c_1 == 0:\n",
    "                    first_letter_of_number(x)\n",
    "                    c_1 = 1\n",
    "                    points -= 20\n",
    "                    if guess():\n",
    "                        return True\n",
    "                else:\n",
    "                    print(\"You have already tried question 1.\")\n",
    "                    ask_again()\n",
    "            elif question == '2':\n",
    "                if c_2 == 0:\n",
    "                    parity(x)\n",
    "                    c_2 = 1\n",
    "                    points -= 10\n",
    "                    if guess():\n",
    "                        return True\n",
    "                else:\n",
    "                    print(\"You have already tried question 2.\")\n",
    "                    ask_again()\n",
    "            elif question == '3':\n",
    "                if c_3 == 0:\n",
    "                    digits(x)\n",
    "                    c_3 = 1\n",
    "                    points -= 20\n",
    "                    if guess():\n",
    "                        return True\n",
    "                else:\n",
    "                    print(\"You have already tried question 3.\")\n",
    "                    ask_again()\n",
    "            elif question == '4':\n",
    "                if c_4 == 0:\n",
    "                    sum_of_last_2(x)\n",
    "                    c_4 = 1\n",
    "                    points -= 20\n",
    "                    if guess():\n",
    "                        return True\n",
    "                else:\n",
    "                    print(\"You have already tried question 4.\")\n",
    "                    ask_again()\n",
    "            elif question == '5':\n",
    "                if c_5 == 0:\n",
    "                    first_parity(x)\n",
    "                    c_5 = 1\n",
    "                    points -= 10\n",
    "                    if guess():\n",
    "                        return True\n",
    "                else:\n",
    "                    print(\"You have already tried question 5.\")\n",
    "                    ask_again()\n",
    "            elif question == '6':\n",
    "                if c_6 == 0:\n",
    "                    product_two(x)\n",
    "                    c_6 = 1\n",
    "                    points -= 20\n",
    "                    if guess():\n",
    "                        return True\n",
    "                else:\n",
    "                    print(\"You have already tried question 6.\")\n",
    "                    ask_again()\n",
    "            elif question == '7':\n",
    "                if c_7 == 0:\n",
    "                    half_check(x)\n",
    "                    points -= 10\n",
    "                    c_7 = 1\n",
    "                    if guess():\n",
    "                        return True\n",
    "                else:\n",
    "                    print(\"You have already tried question 7.\")\n",
    "                    ask_again()\n",
    "            elif question == '8':\n",
    "                if c_8 == 0:\n",
    "                    higher_lower(x)\n",
    "                    points -= 10\n",
    "                    c_8 = 1\n",
    "                    if guess():\n",
    "                        return True\n",
    "                else:\n",
    "                    print(\"You have already tried question 8.\")\n",
    "                    ask_again()\n",
    "            elif question == '9':\n",
    "                if c_9 == 0:\n",
    "                    prime_check(x)\n",
    "                    c_9 = 1\n",
    "                    points -= 10\n",
    "                    if guess():\n",
    "                        return True\n",
    "                else:\n",
    "                    print(\"You have already tried question 9.\")\n",
    "                    ask_again()\n",
    "            elif question == '10':\n",
    "                if c_10 == 0:\n",
    "                    last_digit(x)\n",
    "                    c_10 = 1\n",
    "                    points -= 20\n",
    "                    if guess():\n",
    "                        return True\n",
    "                else:\n",
    "                    print(\"You have already tried question 10.\")\n",
    "                    ask_again()\n",
    "            else:\n",
    "                print(\"Invalid choice.\")\n",
    "                ask_again()\n",
    "            return False\n",
    "\n",
    "        return handle_question_choice(q)\n",
    "\n",
    "    # Start the player guessing game\n",
    "    print(\"Welcome to the game! The rules are simple: the computer has picked a number between 1-1000 and you must guess it!\")\n",
    "    print(\"You have a set of predetermined questions and a budget of 100 points. Each question reduces your points. If you run out of points, game over!\")\n",
    "    print(\"Your questions are:\")\n",
    "    print(\"1 - What letter does your number start with? (Cost - 20)\") # not binary\n",
    "    print(\"2 - Is your number odd or even? (Cost - 10)\") # binary\n",
    "    print(\"3 - How many digits are in your number? (Cost - 20)\") # not binary\n",
    "    print(\"4 - What is the sum of the last two digits of your number? (Cost - 20)\") # not binary\n",
    "    print(\"5 - Is the first digit in your number odd or even? (Cost - 10)\") # binary\n",
    "    print(\"6 - What is the product of the last two digits of your number? (Cost - 20)\") # not binary\n",
    "    print(\"7 - Is the number more or less than 500? (Cost - 10)\") # binary\n",
    "    print(\"8 - Is the number higher or lower than x? (Cost - 10)\") # binary\n",
    "    print(\"9 - Is the number prime? (Cost - 10)\") # binary\n",
    "    print(\"10 - What is the last digit in the number? (Cost - 20)\") # not binary\n",
    "\n",
    "    asked_questions = []\n",
    "\n",
    "    def ask_question():\n",
    "        nonlocal asked_questions, points\n",
    "        q = input(\"Choose a question from 1-10:\")\n",
    "        while q in asked_questions:\n",
    "            q = input(\"You've already asked that! Please select a new question!:\")\n",
    "        asked_questions.append(q)\n",
    "        if f(q):\n",
    "            # They guessed the number correctly inside f(q)/guess()\n",
    "            return True\n",
    "        pointy()\n",
    "        if point_check(x):\n",
    "            # If points ran out and final guess sequence ended\n",
    "            return True\n",
    "        return False\n",
    "\n",
    "    # Ask up to 10 questions or until the player wins or runs out of points\n",
    "    for _ in range(10):\n",
    "        if ask_question():\n",
    "            # Player either won or game ended\n",
    "            return\n",
    "\n",
    "    # If we reach here, the player asked 10 questions and didn't guess correctly or run out of points\n",
    "    final_try = input(\"You've used all your allowed questions. Make a final guess?:\")\n",
    "    if final_try.lower() in ['yes', 'y']:\n",
    "        final_guess = input(\"Final guess, what's the number?:\")\n",
    "        if final_guess == str(x):\n",
    "            print(\"Correct! The number was\", x)\n",
    "        else:\n",
    "            print(\"Nope, sorry! The number was\", x)\n",
    "    else:\n",
    "        print(\"No final guess? The number was\", x)\n",
    "\n",
    "def main():\n",
    "    role = input(\"Welcome player! This is the guessing game. Enter 'player' for player to guess or 'computer' for the computer to guess: \")\n",
    "\n",
    "    while role.lower() not in ['player', 'computer']:\n",
    "        role = input(\"Invalid choice. Please enter 'player' or 'computer': \")\n",
    "\n",
    "    print(f\"Excellent! The person guessing will be the {role.lower()}.\")\n",
    "\n",
    "    if role.lower() == \"computer\":\n",
    "        computer_guess()\n",
    "    else:\n",
    "        player_guess()\n",
    "\n",
    "    restart_game()\n",
    "\n",
    "main()\n"
   ]
  },
  {
   "cell_type": "code",
   "execution_count": null,
   "id": "2617abf0-5e7d-4af7-a739-6205bd651e10",
   "metadata": {},
   "outputs": [],
   "source": []
  }
 ],
 "metadata": {
  "kernelspec": {
   "display_name": "Python 3 (ipykernel)",
   "language": "python",
   "name": "python3"
  },
  "language_info": {
   "codemirror_mode": {
    "name": "ipython",
    "version": 3
   },
   "file_extension": ".py",
   "mimetype": "text/x-python",
   "name": "python",
   "nbconvert_exporter": "python",
   "pygments_lexer": "ipython3",
   "version": "3.12.4"
  }
 },
 "nbformat": 4,
 "nbformat_minor": 5
}
